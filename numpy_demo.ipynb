{
 "cells": [
  {
   "cell_type": "markdown",
   "metadata": {},
   "source": [
    "# Linear Regression with Numpy\n",
    "In this tutorial we demonstrate the functionalities of Numpy by doing an exercise on Linear Regression. The datasets are randomly generated. We use the ordinary least squares method to obtain the optimal parameters."
   ]
  },
  {
   "cell_type": "code",
   "execution_count": 4,
   "metadata": {
    "collapsed": true
   },
   "outputs": [],
   "source": [
    "import numpy as np"
   ]
  },
  {
   "cell_type": "markdown",
   "metadata": {},
   "source": [
    "We start by constructing a random dataset `X`.\n",
    "The variable `X` is of the type `numpy.ndarray`, which is the central datatype\n",
    "for numpy calculations. Next, we will explore the attributes and methods provided by this datatype, along with\n",
    "other functions present in numpy package"
   ]
  },
  {
   "cell_type": "code",
   "execution_count": 10,
   "metadata": {
    "collapsed": false
   },
   "outputs": [
    {
     "data": {
      "text/plain": [
       "numpy.ndarray"
      ]
     },
     "execution_count": 10,
     "metadata": {},
     "output_type": "execute_result"
    }
   ],
   "source": [
    "X = np.random.uniform(size=(1000,10))\n",
    "type(X)"
   ]
  },
  {
   "cell_type": "markdown",
   "metadata": {},
   "source": [
    "The attribute `shape` gives the size of the `numpy.ndarray` object, per axis. To get the transpose of the matrix, we can simply do `X.T`"
   ]
  },
  {
   "cell_type": "code",
   "execution_count": 6,
   "metadata": {
    "collapsed": false
   },
   "outputs": [
    {
     "data": {
      "text/plain": [
       "((1000, 10), (10, 1000))"
      ]
     },
     "execution_count": 6,
     "metadata": {},
     "output_type": "execute_result"
    }
   ],
   "source": [
    "X.shape, X.T.shape"
   ]
  },
  {
   "cell_type": "markdown",
   "metadata": {},
   "source": [
    "`numpy` allows easy indexing and slicing of the matrix, by providing the range of the indices. For multidimensional indexing, we can use Matlab like notation: `X[4,3]`. But unlike Matlab, the first index\n",
    "of any `numpy` array is 0."
   ]
  },
  {
   "cell_type": "code",
   "execution_count": 9,
   "metadata": {
    "collapsed": false
   },
   "outputs": [
    {
     "name": "stdout",
     "output_type": "stream",
     "text": [
      "[[  1.24210388e-01   2.88602157e-01   2.33376277e-01   8.69433605e-01]\n",
      " [  6.07982050e-01   7.34809681e-01   3.71530411e-04   4.64793300e-01]]\n"
     ]
    }
   ],
   "source": [
    "print(X[2:4, -5:-1])"
   ]
  },
  {
   "cell_type": "code",
   "execution_count": 21,
   "metadata": {
    "collapsed": false
   },
   "outputs": [
    {
     "name": "stdout",
     "output_type": "stream",
     "text": [
      "[[ 0.25267011  0.22103237  0.49239966  0.8666039   0.57544191  0.23426442\n",
      "   0.8179003   0.68621908  0.78174368  0.64364756]\n",
      " [ 0.72127757  0.95189444  0.54134705  0.36909941  0.30658017  0.51168315\n",
      "   0.8858587   0.39777026  0.51782958  0.26846217]]\n"
     ]
    }
   ],
   "source": [
    "print(X[2:4, :])"
   ]
  },
  {
   "cell_type": "markdown",
   "metadata": {},
   "source": [
    "We already saw one way of creating an `ndarray` object. There are some more ways of creating `ndarray` objects:\n",
    "\n",
    "`np.eye(size)` creates an identity matrix of size `size`."
   ]
  },
  {
   "cell_type": "code",
   "execution_count": 16,
   "metadata": {
    "collapsed": false
   },
   "outputs": [
    {
     "data": {
      "text/plain": [
       "array([[ 1.,  0.,  0.,  0.],\n",
       "       [ 0.,  1.,  0.,  0.],\n",
       "       [ 0.,  0.,  1.,  0.],\n",
       "       [ 0.,  0.,  0.,  1.]])"
      ]
     },
     "execution_count": 16,
     "metadata": {},
     "output_type": "execute_result"
    }
   ],
   "source": [
    "np.eye(4)"
   ]
  },
  {
   "cell_type": "markdown",
   "metadata": {},
   "source": [
    "We can also create an `ndarray` object filled with the same scalar value using `np.full`"
   ]
  },
  {
   "cell_type": "code",
   "execution_count": 17,
   "metadata": {
    "collapsed": false
   },
   "outputs": [
    {
     "data": {
      "text/plain": [
       "array([[ 2.,  2.,  2.],\n",
       "       [ 2.,  2.,  2.]])"
      ]
     },
     "execution_count": 17,
     "metadata": {},
     "output_type": "execute_result"
    }
   ],
   "source": [
    "np.full([2,3], 2.0)"
   ]
  },
  {
   "cell_type": "markdown",
   "metadata": {},
   "source": [
    "If we want to change the shape of our matrix, we can use the `reshape` method. We can skip the size for the first or the last dimension (but not both), since the product of the sizes of all the dimensions combined should\n",
    "be the same before and after `reshape()`"
   ]
  },
  {
   "cell_type": "code",
   "execution_count": 20,
   "metadata": {
    "collapsed": false
   },
   "outputs": [
    {
     "data": {
      "text/plain": [
       "array([[ 0.95395731,  0.83222084],\n",
       "       [ 0.94842382,  0.66444619],\n",
       "       [ 0.27869962,  0.3121831 ],\n",
       "       ..., \n",
       "       [ 0.62564943,  0.7603501 ],\n",
       "       [ 0.61326095,  0.66314223],\n",
       "       [ 0.23612487,  0.87628573]])"
      ]
     },
     "execution_count": 20,
     "metadata": {},
     "output_type": "execute_result"
    }
   ],
   "source": [
    "X.reshape([-1, 2])"
   ]
  },
  {
   "cell_type": "markdown",
   "metadata": {},
   "source": [
    "## Linear Regression\n",
    "\n",
    "We will now implement a linear regression model to quantify the relationship between `Y` and `X`. To do this, we start by creating synthetic `X` and `Y`. Remember, in real world problems, we are generally provide with `Y` and `X`. Since this a playground exercise, we will create them synthetically using some randomly initialized `weights_`. Then we will try to estimate `W` using the analytical solution derived in the class and demonstrate its closeness to the actual `weights_` which generated the data"
   ]
  },
  {
   "cell_type": "code",
   "execution_count": 19,
   "metadata": {
    "collapsed": false
   },
   "outputs": [
    {
     "data": {
      "text/plain": [
       "((10,), (1,))"
      ]
     },
     "execution_count": 19,
     "metadata": {},
     "output_type": "execute_result"
    }
   ],
   "source": [
    "weights_ = np.random.normal(0, 1, size=[10])\n",
    "bias_ = np.random.normal(0, 1, size=1)\n",
    "weights_.shape, bias_.shape"
   ]
  },
  {
   "cell_type": "code",
   "execution_count": 20,
   "metadata": {
    "collapsed": false
   },
   "outputs": [],
   "source": [
    "Y = np.dot(X, weights_) + bias_"
   ]
  },
  {
   "cell_type": "markdown",
   "metadata": {},
   "source": [
    "The first step is to create the augmented matrix `X_aug`. This is achieved by prepending a column of 1s to the matrix `X`"
   ]
  },
  {
   "cell_type": "code",
   "execution_count": 24,
   "metadata": {
    "collapsed": false
   },
   "outputs": [
    {
     "data": {
      "text/plain": [
       "(1000, 1)"
      ]
     },
     "execution_count": 24,
     "metadata": {},
     "output_type": "execute_result"
    }
   ],
   "source": [
    "one_column = np.full([X.shape[0], 1], 1)\n",
    "one_column.shape"
   ]
  },
  {
   "cell_type": "markdown",
   "metadata": {},
   "source": [
    "To append matrices horizontally or vertically, we use `hstack` and `vstack` functions in `numpy` package. The appended matrices should have corresponding dimensions matching in size."
   ]
  },
  {
   "cell_type": "code",
   "execution_count": 25,
   "metadata": {
    "collapsed": false
   },
   "outputs": [
    {
     "data": {
      "text/plain": [
       "array([[  1.00000000e+00,   7.92170718e-01,   1.14055071e-01, ...,\n",
       "          7.78788648e-01,   9.01971904e-01,   1.67425136e-01],\n",
       "       [  1.00000000e+00,   2.24040281e-01,   5.04284249e-01, ...,\n",
       "          1.33903145e-01,   2.94464314e-01,   1.10787600e-02],\n",
       "       [  1.00000000e+00,   2.52670113e-01,   2.21032374e-01, ...,\n",
       "          6.86219076e-01,   7.81743684e-01,   6.43647562e-01],\n",
       "       ..., \n",
       "       [  1.00000000e+00,   3.10102717e-01,   1.62708252e-01, ...,\n",
       "          2.54852533e-01,   2.20784155e-01,   7.54477451e-01],\n",
       "       [  1.00000000e+00,   4.95994903e-01,   9.80665589e-01, ...,\n",
       "          5.00026006e-01,   4.82723227e-01,   6.22462036e-01],\n",
       "       [  1.00000000e+00,   7.68896246e-01,   4.68451416e-04, ...,\n",
       "          2.26746708e-01,   1.08470727e-01,   4.59755409e-01]])"
      ]
     },
     "execution_count": 25,
     "metadata": {},
     "output_type": "execute_result"
    }
   ],
   "source": [
    "X_aug = np.hstack([one_column, X])\n",
    "X_aug"
   ]
  },
  {
   "cell_type": "markdown",
   "metadata": {},
   "source": [
    "To multiply two matrices, we can't use the `*` operator, since it will multiply the matrices elementwise. Here's an example to show that"
   ]
  },
  {
   "cell_type": "code",
   "execution_count": 26,
   "metadata": {
    "collapsed": false
   },
   "outputs": [
    {
     "data": {
      "text/plain": [
       "array([[ 2.,  0.,  0.],\n",
       "       [ 0.,  2.,  0.],\n",
       "       [ 0.,  0.,  2.]])"
      ]
     },
     "execution_count": 26,
     "metadata": {},
     "output_type": "execute_result"
    }
   ],
   "source": [
    "np.full([3,3], 2) * np.eye(3)"
   ]
  },
  {
   "cell_type": "markdown",
   "metadata": {},
   "source": [
    "Instead we use `np.dot`, which multiplies the matrices as we know it from mathematics. Now, from the formula, the part we are missing is to calculate the inverse, which can be done via `np.linalg.inv`.\n",
    "\n",
    "`np.linalg` is a sub-package within `numpy` which provides some of the useful linear algebra operations. Other examples of linear algebra operations are:\n",
    "- determinant calculation\n",
    "- eigen value decomposition\n",
    "- cholesky decomposition\n",
    "- trace\n",
    "\n",
    "and so on.."
   ]
  },
  {
   "cell_type": "code",
   "execution_count": 46,
   "metadata": {
    "collapsed": false
   },
   "outputs": [],
   "source": [
    "W = np.dot(np.dot(np.linalg.inv(np.dot(X_aug.T, X_aug)), X_aug.T), Y)"
   ]
  },
  {
   "cell_type": "markdown",
   "metadata": {
    "collapsed": true
   },
   "source": [
    "Finally we have our estimated weights `W` for the linear regression model. We can now compare it against original `weights_` to see how well it performs."
   ]
  },
  {
   "cell_type": "code",
   "execution_count": 32,
   "metadata": {
    "collapsed": false
   },
   "outputs": [
    {
     "data": {
      "text/plain": [
       "array([ 0.0486995])"
      ]
     },
     "execution_count": 32,
     "metadata": {},
     "output_type": "execute_result"
    }
   ],
   "source": [
    "bias_"
   ]
  },
  {
   "cell_type": "code",
   "execution_count": 35,
   "metadata": {
    "collapsed": false
   },
   "outputs": [
    {
     "data": {
      "text/plain": [
       "array([ 0.97846304, -0.62400473, -1.18757892, -0.0727091 ,  1.34215761,\n",
       "        1.30466299,  0.05013723, -1.21192935,  0.25199518, -0.42339918])"
      ]
     },
     "execution_count": 35,
     "metadata": {},
     "output_type": "execute_result"
    }
   ],
   "source": [
    "weights_"
   ]
  },
  {
   "cell_type": "code",
   "execution_count": 49,
   "metadata": {
    "collapsed": false
   },
   "outputs": [
    {
     "data": {
      "text/plain": [
       "array([ True,  True,  True,  True,  True,  True,  True,  True,  True,\n",
       "        True,  True], dtype=bool)"
      ]
     },
     "execution_count": 49,
     "metadata": {},
     "output_type": "execute_result"
    }
   ],
   "source": [
    "W - np.hstack([bias_, weights_]) < 1e-6"
   ]
  },
  {
   "cell_type": "code",
   "execution_count": null,
   "metadata": {
    "collapsed": true
   },
   "outputs": [],
   "source": []
  }
 ],
 "metadata": {
  "kernelspec": {
   "display_name": "Python 3",
   "language": "python",
   "name": "python3"
  },
  "language_info": {
   "codemirror_mode": {
    "name": "ipython",
    "version": 3
   },
   "file_extension": ".py",
   "mimetype": "text/x-python",
   "name": "python",
   "nbconvert_exporter": "python",
   "pygments_lexer": "ipython3",
   "version": "3.5.2"
  }
 },
 "nbformat": 4,
 "nbformat_minor": 1
}
