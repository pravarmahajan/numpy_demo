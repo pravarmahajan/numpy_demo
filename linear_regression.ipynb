import numpy as np

num_data_points = 1000
num_dims = 10
